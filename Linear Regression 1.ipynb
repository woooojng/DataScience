{
 "cells": [
  {
   "attachments": {},
   "cell_type": "markdown",
   "id": "8b436be4",
   "metadata": {},
   "source": [
    "# Linear Regression 1\n",
    "We establish a theoretical framework for parametric supervised learning methods, aiming to rigorously define the setup of such problems and discuss predictive and explanatory modeling.\n"
   ]
  },
  {
   "cell_type": "markdown",
   "id": "87356e2f",
   "metadata": {},
   "source": [
    "## Framework Overview\n",
    "The data contains inputs ($X$) and outputs ($Y$), and in a supervised learning problem, a statistical model represents the relationship between $X$ and $Y$:\n",
    "$$Y=f(X)+\\epsilon$$\n",
    "where\n",
    "\n",
    "- $f$ : the function we want to approximate.\n",
    "- $\\epsilon$ : random noise, which may or may not be independent of \n",
    "$X$.\n",
    "- $X$ : Input variables, features, independent variables, explanatory variables, regressors, covariates, predictors.\n",
    "- $Y$ : Output variable, target, outcome, dependent variable, regressand, response.\n"
   ]
  },
  {
   "cell_type": "markdown",
   "id": "b9ec2518",
   "metadata": {},
   "source": [
    "We consider functions of a specific form called a model, parameterized by $\\beta_0$ and $\\beta_1$. Adjusting the parameters provides different instances of the model. The evaluation of each $\\beta_0$ and $\\beta_1$ is done using a loss function, which scores how well the model reproduces observed input/output pairs.\n"
   ]
  },
  {
   "cell_type": "markdown",
   "id": "2a1aa634",
   "metadata": {},
   "source": [
    "## Key Steps in Supervised Learning\n",
    "1.\tData: Input and output pairs $(X,Y)$.\n",
    "2.\tModel: Choose a model $f(X,\\beta)$ parameterized by $\\beta$.\n",
    "3.\tLoss Function: Select a loss function $L(\\beta)$ to evaluate the model's performance.\n",
    "4.\tMinimization: Minimize the loss function to obtain the fitted model with parameters $L(\\beta)$.\n",
    "\n",
    "\n",
    "Illustration: We simulate the relationship between patient weight and blood volume using a linear regression model, generating systematic and observed data. We then train a linear regression algorithm and visualize the true relationship, observed data, and the fitted model.\n",
    "\n",
    "\n",
    "Two Main Modeling Goals:\n",
    "1.\tMaking Predictions: The goal is to produce a model for accurate predictions of new observations.\n",
    "2.\tMaking Inferences: The goal is to produce a model explaining the relationship between $X$ and $Y$, aiming for explanatory models that explain variance while being parsimonious.\n",
    "While these notes primarily focus on predictive modeling, both predictive and explanatory modeling play essential roles in data science and research.\n"
   ]
  },
  {
   "attachments": {},
   "cell_type": "markdown",
   "id": "22f3a257",
   "metadata": {},
   "source": [
    "## Multiple Linear Regression\n",
    "\n",
    "### Objective\n",
    "- Introduce the multiple linear regression model and demonstrate how to fit the model using the normal equation.\n",
    "  \n",
    "### Model Description\n",
    "\n",
    "- For predicting a quantitative variable $Y$, the multiple linear regression model regresses $Y$ on a set of $p$ features $(X_1, X_2, ..., X_p)$.\n",
    "- The model is expressed as: \n",
    "$$Y = \\beta_0 + \\beta_1X_1 + \\beta_2X_2 + ... + \\beta_pX_p + \\varepsilon,$$\n",
    "where $\\beta_0, \\beta_1, ..., \\beta_p$ are constants, $\\mathbf{X}$ is the feature vector, and $\\varepsilon$ is the error term.\n",
    "  \n",
    "### Fitting the Model\n",
    "\n",
    "- Given $n$ observations, package them into an $n \\times (p+1)$ matrix $\\mathbf{X}$ with columns of the $p$ features and a $ n \\times 1 $ vector $\\mathbf{Y}$.\n",
    "- The goal is to minimize the mean squared error (MSE) to find the parameter vector $\\beta$ that best fits the data.\n",
    "- Mathematically, this minimization problem can be expressed as solving the normal equation: $ \\mathbf{\\beta} = (\\mathbf{X}^T \\mathbf{X})^{-1} \\mathbf{X}^T \\mathbf{Y}.$\n",
    "\n",
    "\n"
   ]
  },
  {
   "cell_type": "markdown",
   "id": "7e11bd1b",
   "metadata": {},
   "source": [
    "### Linear Algebra Interpretation\n",
    "- Geometrically, this process can be viewed as projecting $\\mathbf{Y}$ into the subspace spanned by the columns of $\\mathbf{X}$.\n",
    "  \n",
    "### Implementation Steps\n",
    "1. Prepare the data matrix $\\mathbf{X}$ and the target vector $\\mathbf{Y}$.\n",
    "2. Apply the normal equation to find the coefficient vector $\\beta$.\n",
    "3. This coefficient vector represents the ordinary least squares estimate, minimizing the MSE.\n",
    "\n"
   ]
  },
  {
   "cell_type": "markdown",
   "id": "c5482024",
   "metadata": {},
   "source": [
    "### Libraries Used for the next example\n",
    "- `pandas` for data manipulation.\n",
    "- `numpy` for numerical operations.\n",
    "- `matplotlib.pyplot` for plotting.\n",
    "\n",
    "Note:\n",
    "- The term \"padded\" refers to adding a constant term to capture the intercept in the model. This is often done for a more comprehensive representation of the linear relationship."
   ]
  },
  {
   "cell_type": "markdown",
   "id": "fb29559b",
   "metadata": {},
   "source": [
    "## Example : Start-up company data"
   ]
  },
  {
   "cell_type": "code",
   "execution_count": 50,
   "id": "9130d462",
   "metadata": {},
   "outputs": [
    {
     "name": "stdout",
     "output_type": "stream",
     "text": [
      "(50, 5)\n"
     ]
    },
    {
     "data": {
      "text/html": [
       "<div>\n",
       "<style scoped>\n",
       "    .dataframe tbody tr th:only-of-type {\n",
       "        vertical-align: middle;\n",
       "    }\n",
       "\n",
       "    .dataframe tbody tr th {\n",
       "        vertical-align: top;\n",
       "    }\n",
       "\n",
       "    .dataframe thead th {\n",
       "        text-align: right;\n",
       "    }\n",
       "</style>\n",
       "<table border=\"1\" class=\"dataframe\">\n",
       "  <thead>\n",
       "    <tr style=\"text-align: right;\">\n",
       "      <th></th>\n",
       "      <th>R&amp;D Spend</th>\n",
       "      <th>Administration</th>\n",
       "      <th>Marketing Spend</th>\n",
       "      <th>State</th>\n",
       "      <th>Profit</th>\n",
       "    </tr>\n",
       "  </thead>\n",
       "  <tbody>\n",
       "    <tr>\n",
       "      <th>0</th>\n",
       "      <td>165349.20</td>\n",
       "      <td>136897.80</td>\n",
       "      <td>471784.10</td>\n",
       "      <td>New York</td>\n",
       "      <td>192261.83</td>\n",
       "    </tr>\n",
       "    <tr>\n",
       "      <th>1</th>\n",
       "      <td>162597.70</td>\n",
       "      <td>151377.59</td>\n",
       "      <td>443898.53</td>\n",
       "      <td>California</td>\n",
       "      <td>191792.06</td>\n",
       "    </tr>\n",
       "    <tr>\n",
       "      <th>2</th>\n",
       "      <td>153441.51</td>\n",
       "      <td>101145.55</td>\n",
       "      <td>407934.54</td>\n",
       "      <td>Florida</td>\n",
       "      <td>191050.39</td>\n",
       "    </tr>\n",
       "    <tr>\n",
       "      <th>3</th>\n",
       "      <td>144372.41</td>\n",
       "      <td>118671.85</td>\n",
       "      <td>383199.62</td>\n",
       "      <td>New York</td>\n",
       "      <td>182901.99</td>\n",
       "    </tr>\n",
       "    <tr>\n",
       "      <th>4</th>\n",
       "      <td>142107.34</td>\n",
       "      <td>91391.77</td>\n",
       "      <td>366168.42</td>\n",
       "      <td>Florida</td>\n",
       "      <td>166187.94</td>\n",
       "    </tr>\n",
       "  </tbody>\n",
       "</table>\n",
       "</div>"
      ],
      "text/plain": [
       "   R&D Spend  Administration  Marketing Spend       State     Profit\n",
       "0  165349.20       136897.80        471784.10    New York  192261.83\n",
       "1  162597.70       151377.59        443898.53  California  191792.06\n",
       "2  153441.51       101145.55        407934.54     Florida  191050.39\n",
       "3  144372.41       118671.85        383199.62    New York  182901.99\n",
       "4  142107.34        91391.77        366168.42     Florida  166187.94"
      ]
     },
     "execution_count": 50,
     "metadata": {},
     "output_type": "execute_result"
    }
   ],
   "source": [
    "import pandas as pd\n",
    "# Load the dataset\n",
    "startup_data = pd.read_csv('50_Startups.csv')\n",
    "print(startup_data.shape)\n",
    "startup_data.head(5)"
   ]
  },
  {
   "cell_type": "markdown",
   "id": "c72c9e19",
   "metadata": {},
   "source": [
    "### Data description\n",
    "- Data dimension is (50 $\\times$ 5) with 50 companies for 5 column categories\n",
    "- R&D Spend, Marketing Spend : The money spent from the company\n",
    "- Administration : Administrative money sepnt from the company\n",
    "- State : 3 Location of the company. They are New York, California and Florida\n",
    "- Profit : Income of the company"
   ]
  },
  {
   "cell_type": "code",
   "execution_count": 70,
   "id": "784d4ff4",
   "metadata": {},
   "outputs": [
    {
     "name": "stdout",
     "output_type": "stream",
     "text": [
      "The new column states is :\n",
      "    Florida  New York\n",
      "0    False      True\n",
      "1    False     False\n",
      "2     True     False\n",
      "3    False      True\n",
      "4     True     False\n",
      "\n",
      " Dimension of X is :\n",
      " (50, 5)\n",
      "\n",
      " X is :\n",
      "    R&D Spend  Administration  Marketing Spend  Florida  New York\n",
      "0  165349.20       136897.80        471784.10        0         1\n",
      "1  162597.70       151377.59        443898.53        0         0\n",
      "2  153441.51       101145.55        407934.54        1         0\n",
      "3  144372.41       118671.85        383199.62        0         1\n",
      "4  142107.34        91391.77        366168.42        1         0\n",
      "\n",
      " y is :\n",
      " 0    192261.83\n",
      "1    191792.06\n",
      "2    191050.39\n",
      "3    182901.99\n",
      "4    166187.94\n",
      "Name: Profit, dtype: float64\n"
     ]
    }
   ],
   "source": [
    "import numpy as np\n",
    "import matplotlib.pyplot as plt\n",
    "from numpy.linalg import inv, det\n",
    "\n",
    "\n",
    "X = startup_data.iloc[:, :-1]\n",
    "\n",
    "y = startup_data.iloc[:, 4]\n",
    "\n",
    "\n",
    "# Change into categorical variable\n",
    "\n",
    "states=pd.get_dummies(X['State'],drop_first=True)\n",
    "print('The new column states is :\\n', states.head(5))\n",
    "# Deleting unnecessary column\n",
    "\n",
    "X= X.drop('State',axis=1)\n",
    "\n",
    "# Independent variables and cateorical variable concatation.\n",
    "\n",
    "X=pd.concat([X,states],axis=1)\n",
    "\n",
    "#Convert the True and False of X into integer 0 and 1\n",
    "X['Florida']= X['Florida'].astype(int)\n",
    "X['New York']= X['New York'].astype(int)\n",
    "\n",
    "print('\\n Dimension of X is :\\n', X.shape)\n",
    "print('\\n X is :\\n', X.head(5))\n",
    "print('\\n y is :\\n', y.head(5))"
   ]
  },
  {
   "cell_type": "code",
   "execution_count": 64,
   "id": "7291d269",
   "metadata": {},
   "outputs": [
    {
     "name": "stdout",
     "output_type": "stream",
     "text": [
      "beta_0_hat = 46429.14278898854\n",
      "beta_1_hat = 0.8125938745884593\n",
      "beta_2_hat = 0.01571854278720394\n"
     ]
    },
    {
     "data": {
      "text/plain": [
       "array([ 95090.50839871,  98047.61536855,  49145.88809871,  61324.98848333,\n",
       "        43050.63588856, 185931.96938749, 126286.35357384, 168233.67940151,\n",
       "       134531.11668461, 178408.788892  , 116870.97339977,  82971.07936474,\n",
       "       103850.14151027, 112190.58639591,  67434.64568031,  71398.76636008,\n",
       "       106667.06010749,  73403.15985783, 156032.79708505, 128221.87876296,\n",
       "        82466.98985232, 124939.36606774,  55542.07337345, 107147.44290074,\n",
       "       166878.24922446])"
      ]
     },
     "execution_count": 64,
     "metadata": {},
     "output_type": "execute_result"
    }
   ],
   "source": [
    "# Importing train_test_split from sklearn\n",
    "from sklearn.model_selection import train_test_split\n",
    "\n",
    "# Split the data\n",
    "X_train, X_test, y_train, y_test = train_test_split(X, y,\n",
    "                                        shuffle = True, test_size=0.5, random_state=40)\n",
    "\n",
    "# Import the LinearRegression module\n",
    "from sklearn.linear_model import LinearRegression\n",
    "\n",
    "# Create an instance of the LinearRegression class\n",
    "linear_regression = LinearRegression()\n",
    "\n",
    "# Fit the training data\n",
    "linear_regression.fit(X_train, y_train)\n",
    "\n",
    "\n",
    "#Calculate the beta hat\n",
    "## Add a column of 1s to X for beta_0, therefore we make augmented matrix\n",
    "X_train = np.insert(X_train, 0, 1, axis=1)\n",
    "#numpy.insert(arr, obj, values, axis=None). Insert values along the given axis before the given indices.\n",
    "\n",
    "\n",
    "beta_hat = np.linalg.inv(X_train.transpose().dot(X_train)).dot(X_train.transpose()).dot(y_train)\n",
    "\n",
    "\n",
    "\n",
    "\n",
    "# Oberving beta_hat\n",
    "print(\"beta_0_hat =\", beta_hat[0])\n",
    "print(\"beta_1_hat =\", beta_hat[1])\n",
    "print(\"beta_2_hat =\", beta_hat[2])\n",
    "\n",
    "# Make predictions\n",
    "y_pred = linear_regression.predict(X_test)\n",
    "y_pred\n",
    "\n"
   ]
  },
  {
   "cell_type": "code",
   "execution_count": 65,
   "id": "6c600571",
   "metadata": {},
   "outputs": [
    {
     "name": "stdout",
     "output_type": "stream",
     "text": [
      "r2 score: 0.9209128758791416\n",
      "mean squared error: 141041281.455852\n",
      "root mean squared error: 11876.080222693514\n"
     ]
    }
   ],
   "source": [
    "# Import the r2_score and mean_squared_error modules\n",
    "from sklearn.metrics import r2_score, mean_squared_error\n",
    "\n",
    "# Calculate the R2 score\n",
    "r2_score_value = r2_score(y_test, y_pred)\n",
    "\n",
    "# Calculate the mean squared error\n",
    "mean_squared_error_value = mean_squared_error(y_test, y_pred)\n",
    "\n",
    "# Calculate the root mean squared error\n",
    "root_mean_squared_error_value = np.sqrt(mean_squared_error(y_test, y_pred))\n",
    "\n",
    "print('r2 score:', r2_score_value)\n",
    "print('mean squared error:', mean_squared_error_value)\n",
    "print('root mean squared error:', root_mean_squared_error_value)\n"
   ]
  },
  {
   "cell_type": "code",
   "execution_count": null,
   "id": "90d3a7ba",
   "metadata": {},
   "outputs": [],
   "source": []
  }
 ],
 "metadata": {
  "kernelspec": {
   "display_name": "Python 3 (ipykernel)",
   "language": "python",
   "name": "python3"
  },
  "language_info": {
   "codemirror_mode": {
    "name": "ipython",
    "version": 3
   },
   "file_extension": ".py",
   "mimetype": "text/x-python",
   "name": "python",
   "nbconvert_exporter": "python",
   "pygments_lexer": "ipython3",
   "version": "3.11.5"
  },
  "toc": {
   "base_numbering": 1,
   "nav_menu": {},
   "number_sections": true,
   "sideBar": true,
   "skip_h1_title": false,
   "title_cell": "Table of Contents",
   "title_sidebar": "Contents",
   "toc_cell": false,
   "toc_position": {},
   "toc_section_display": true,
   "toc_window_display": false
  },
  "varInspector": {
   "cols": {
    "lenName": 16,
    "lenType": 16,
    "lenVar": 40
   },
   "kernels_config": {
    "python": {
     "delete_cmd_postfix": "",
     "delete_cmd_prefix": "del ",
     "library": "var_list.py",
     "varRefreshCmd": "print(var_dic_list())"
    },
    "r": {
     "delete_cmd_postfix": ") ",
     "delete_cmd_prefix": "rm(",
     "library": "var_list.r",
     "varRefreshCmd": "cat(var_dic_list()) "
    }
   },
   "types_to_exclude": [
    "module",
    "function",
    "builtin_function_or_method",
    "instance",
    "_Feature"
   ],
   "window_display": false
  }
 },
 "nbformat": 4,
 "nbformat_minor": 5
}
